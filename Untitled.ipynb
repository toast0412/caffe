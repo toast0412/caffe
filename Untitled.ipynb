{
 "cells": [
  {
   "cell_type": "code",
   "execution_count": 5,
   "metadata": {},
   "outputs": [],
   "source": [
    "f = open(\"train.txt\",'w')\n",
    "for i in range (1,9):\n",
    "    data = \"a/%d.jpeg\" % i \n",
    "    f.write(data)\n",
    "    data1 = \" 1\\n\" \n",
    "    f.write(data1)\n",
    "for i in range (1,9):\n",
    "    data = \"b/%d.jpeg\" % i \n",
    "    f.write(data)\n",
    "    data1 = \" 2\\n\" \n",
    "    f.write(data1)\n",
    "for i in range (1,9):\n",
    "    data = \"c/%d.jpeg\" % i \n",
    "    f.write(data)\n",
    "    data1 = \" 3\\n\" \n",
    "    f.write(data1)\n",
    "for i in range (1,9):\n",
    "    data = \"d/%d.jpeg\" % i \n",
    "    f.write(data)\n",
    "    data1 = \" 4\\n\" \n",
    "    f.write(data1)\n",
    "for i in range (1,9):\n",
    "    data = \"e/%d.jpeg\" % i \n",
    "    f.write(data)\n",
    "    data1 = \" 5\\n\" \n",
    "    f.write(data1)    \n",
    "    \n"
   ]
  },
  {
   "cell_type": "code",
   "execution_count": null,
   "metadata": {},
   "outputs": [],
   "source": []
  }
 ],
 "metadata": {
  "kernelspec": {
   "display_name": "Python 3",
   "language": "python",
   "name": "python3"
  },
  "language_info": {
   "codemirror_mode": {
    "name": "ipython",
    "version": 3
   },
   "file_extension": ".py",
   "mimetype": "text/x-python",
   "name": "python",
   "nbconvert_exporter": "python",
   "pygments_lexer": "ipython3",
   "version": "3.5.2"
  }
 },
 "nbformat": 4,
 "nbformat_minor": 2
}
